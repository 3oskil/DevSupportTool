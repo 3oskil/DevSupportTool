{
 "cells": [
  {
   "cell_type": "code",
   "execution_count": 1,
   "id": "3588391a",
   "metadata": {},
   "outputs": [],
   "source": [
    "import json"
   ]
  },
  {
   "cell_type": "code",
   "execution_count": 2,
   "id": "2773acc0",
   "metadata": {},
   "outputs": [],
   "source": [
    "finstat_core = {'position': ('position', 'position extended', 'counterparty', 'map country', 'entity hierarchy', 'instrument',\n",
    "                             'entity', 'facility', 'fx rates', 'lkup international organisation'),\n",
    "                'position movements': ('position movements', 'position', 'counterparty', 'lkup international organisation',\n",
    "                                       'fx rates'),\n",
    "                'other assets liabilities': ('other assets liabilities', 'map country', 'entity hierarchy', 'entity',\n",
    "                                             'instrument', 'lkup international organisation', 'fx rates'),\n",
    "                'other assets liabilities movements': ('other assets liabilities movements', 'other assets liabilities',\n",
    "                                                       'lkup international organisation', 'fx rates', 'map country'),\n",
    "                'profit loss': ('profit loss', 'counterparty', 'map country', 'entity hierarchy', 'entity'),\n",
    "                'profit loss movements': ('profit loss movements', 'profit loss', 'lkup international organisation',\n",
    "                                          'fx rates')}\n",
    "\n",
    "finstat_ctry_ie = {'position': ('counterparty ie', 'entity ie', 'position ie', 'position extended ie'),\n",
    "                   'position movements': ('position ie', 'core_position', 'counterparty ie'),\n",
    "                   'other assets liabilities': ('other assets liabilities ie', 'entity ie'),\n",
    "                   'other assets liabilities movements': ('other assets liabilities ie'),\n",
    "                   'profit loss': ('counterparty ie', 'profit loss ie', 'entity ie'),\n",
    "                   'profit loss movements': ('core profit loss', 'counterparty ie', 'entity ie')}\n",
    "\n",
    "finstat_ctry_at = {'position': ('position at', 'position extended at', 'counterparty at', 'entity at', 'entity hierarchy at'),\n",
    "                   'position movements': ('position at', 'core position', 'counterparty at'),\n",
    "                   'other assets liabilities': ('other assets liabilities at','entity at'),\n",
    "                   'other assets liabilities movements': ('other assets liabilities at'),\n",
    "                   'profit loss': ('core profit loss', 'counterparty at', 'profit loss at', 'entity at')}\n",
    "\n",
    "\n",
    "logics = {'finstat': {'core': finstat_core,\n",
    "                      'ie': finstat_ctry_ie,\n",
    "                      'at': finstat_ctry_at}}"
   ]
  },
  {
   "cell_type": "code",
   "execution_count": 3,
   "id": "34f7be0e",
   "metadata": {},
   "outputs": [
    {
     "data": {
      "text/plain": [
       "{'finstat': {'core': {'position': ('position',\n",
       "    'position extended',\n",
       "    'counterparty',\n",
       "    'map country',\n",
       "    'entity hierarchy',\n",
       "    'instrument',\n",
       "    'entity',\n",
       "    'facility',\n",
       "    'fx rates',\n",
       "    'lkup international organisation'),\n",
       "   'position movements': ('position movements',\n",
       "    'position',\n",
       "    'counterparty',\n",
       "    'lkup international organisation',\n",
       "    'fx rates'),\n",
       "   'other assets liabilities': ('other assets liabilities',\n",
       "    'map country',\n",
       "    'entity hierarchy',\n",
       "    'entity',\n",
       "    'instrument',\n",
       "    'lkup international organisation',\n",
       "    'fx rates'),\n",
       "   'other assets liabilities movements': ('other assets liabilities movements',\n",
       "    'other assets liabilities',\n",
       "    'lkup international organisation',\n",
       "    'fx rates',\n",
       "    'map country'),\n",
       "   'profit loss': ('profit loss',\n",
       "    'counterparty',\n",
       "    'map country',\n",
       "    'entity hierarchy',\n",
       "    'entity'),\n",
       "   'profit loss movements': ('profit loss movements',\n",
       "    'profit loss',\n",
       "    'lkup international organisation',\n",
       "    'fx rates')},\n",
       "  'ie': {'position': ('counterparty ie',\n",
       "    'entity ie',\n",
       "    'position ie',\n",
       "    'position extended ie'),\n",
       "   'position movements': ('position ie', 'core_position', 'counterparty ie'),\n",
       "   'other assets liabilities': ('other assets liabilities ie', 'entity ie'),\n",
       "   'other assets liabilities movements': 'other assets liabilities ie',\n",
       "   'profit loss': ('counterparty ie', 'profit loss ie', 'entity ie'),\n",
       "   'profit loss movements': ('core profit loss',\n",
       "    'counterparty ie',\n",
       "    'entity ie')},\n",
       "  'at': {'position': ('position at',\n",
       "    'position extended at',\n",
       "    'counterparty at',\n",
       "    'entity at',\n",
       "    'entity hierarchy at'),\n",
       "   'position movements': ('position at', 'core position', 'counterparty at'),\n",
       "   'other assets liabilities': ('other assets liabilities at', 'entity at'),\n",
       "   'other assets liabilities movements': 'other assets liabilities at',\n",
       "   'profit loss': ('core profit loss',\n",
       "    'counterparty at',\n",
       "    'profit loss at',\n",
       "    'entity at')}}}"
      ]
     },
     "execution_count": 3,
     "metadata": {},
     "output_type": "execute_result"
    }
   ],
   "source": [
    "logics"
   ]
  },
  {
   "cell_type": "code",
   "execution_count": 4,
   "id": "8b26cfe8",
   "metadata": {},
   "outputs": [],
   "source": [
    "logics_json = json.dumps(logics)"
   ]
  },
  {
   "cell_type": "code",
   "execution_count": 5,
   "id": "d449aae2",
   "metadata": {},
   "outputs": [],
   "source": [
    "with open('logics.json', 'w') as file:\n",
    "    file.write(logics_json)"
   ]
  }
 ],
 "metadata": {
  "kernelspec": {
   "display_name": "Python 3 (ipykernel)",
   "language": "python",
   "name": "python3"
  },
  "language_info": {
   "codemirror_mode": {
    "name": "ipython",
    "version": 3
   },
   "file_extension": ".py",
   "mimetype": "text/x-python",
   "name": "python",
   "nbconvert_exporter": "python",
   "pygments_lexer": "ipython3",
   "version": "3.9.12"
  }
 },
 "nbformat": 4,
 "nbformat_minor": 5
}
